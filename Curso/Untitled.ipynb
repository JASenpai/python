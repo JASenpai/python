{
 "cells": [
  {
   "cell_type": "raw",
   "metadata": {},
   "source": []
  },
  {
   "cell_type": "code",
   "execution_count": 25,
   "metadata": {},
   "outputs": [
    {
     "name": "stdout",
     "output_type": "stream",
     "text": [
      "My cat was just sick on the carpet, I don’t think it’s feline well.\n"
     ]
    }
   ],
   "source": [
    "import requests\n",
    "url = \"https://icanhazdadjoke.com/\"\n",
    "urls = url = \"https://icanhazdadjoke.com/search\"\n",
    "res = requests.get(\n",
    "    url,\n",
    "    headers={\"Accept\": \"application/json\"})\n",
    "\n",
    "ress = requests.get(\n",
    "    urls,\n",
    "    headers={\"Accept\": \"application/json\"},\n",
    "    params = {\"term\": \"cat\", \"limit\": 1})\n",
    "\n",
    "data = ress.json()\n",
    "print(data[\"results\"][0][\"joke\"])\n",
    "\n",
    "\n"
   ]
  },
  {
   "cell_type": "code",
   "execution_count": null,
   "metadata": {},
   "outputs": [],
   "source": []
  }
 ],
 "metadata": {
  "kernelspec": {
   "display_name": "Python 3",
   "language": "python",
   "name": "python3"
  },
  "language_info": {
   "codemirror_mode": {
    "name": "ipython",
    "version": 3
   },
   "file_extension": ".py",
   "mimetype": "text/x-python",
   "name": "python",
   "nbconvert_exporter": "python",
   "pygments_lexer": "ipython3",
   "version": "3.7.3"
  }
 },
 "nbformat": 4,
 "nbformat_minor": 2
}
